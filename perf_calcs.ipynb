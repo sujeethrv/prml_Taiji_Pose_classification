{
 "cells": [
  {
   "cell_type": "code",
   "execution_count": 3,
   "metadata": {},
   "outputs": [
    {
     "name": "stdout",
     "output_type": "stream",
     "text": [
      "Class Precision Mean: [0.30490005 0.93854003 0.9585689  0.92938654 0.99087694 0.56489223\n",
      " 0.90912484 0.84222407 0.97801676 0.95217036 0.90916214 0.87801606\n",
      " 0.82033395 0.90378687 0.81717546 0.88897785 0.52028167 0.85082203\n",
      " 0.87480337 0.85745853 0.92337195 0.85133979 0.89177766 0.91476684\n",
      " 0.7952015  0.96349538 0.54801216 0.55458366 0.77117008 0.9180835\n",
      " 0.83799778 0.98664731 0.97112553 0.98390912 0.97223223 0.9621336\n",
      " 0.95701884 0.97117947 0.96009566 0.98769538 0.97477588 0.97996255\n",
      " 0.85513956 0.83457959 0.9540298  0.94190508]\n",
      "Class Precision Standard Deviation: [0.1924352  0.1129498  0.06351988 0.11753509 0.02159134 0.30508205\n",
      " 0.13699654 0.20229546 0.03702323 0.07198596 0.12592529 0.17281507\n",
      " 0.20950852 0.11398853 0.20674626 0.10011575 0.33494662 0.18125646\n",
      " 0.09824647 0.15104632 0.08757705 0.16988415 0.06416885 0.12608146\n",
      " 0.1810548  0.05619501 0.28986495 0.29966325 0.29120723 0.13527551\n",
      " 0.15689671 0.02092755 0.04293992 0.02436044 0.0342355  0.07070901\n",
      " 0.07424019 0.03935195 0.07418368 0.02452963 0.03706269 0.0498989\n",
      " 0.19256986 0.14933677 0.05287241 0.09815518]\n",
      "Class Recall Mean: [0.394 0.952 0.985 0.927 0.854 0.586 0.947 0.867 0.841 0.897 0.839 0.923\n",
      " 0.806 0.835 0.816 0.823 0.409 0.601 0.715 0.711 0.898 0.835 0.881 0.869\n",
      " 0.819 0.855 0.689 0.526 0.678 0.814 0.848 0.954 0.975 0.992 0.927 0.966\n",
      " 0.937 0.932 0.818 0.918 0.978 0.964 0.825 0.815 0.912 0.929]\n",
      "Class Recall Standard Deviation: [0.1558974  0.07820486 0.03293934 0.15060212 0.2512847  0.34091641\n",
      " 0.09476814 0.16709578 0.25252525 0.13711674 0.24635138 0.09550393\n",
      " 0.25060726 0.27412588 0.21597222 0.15179262 0.33839178 0.32995303\n",
      " 0.28796701 0.26220031 0.12990766 0.17642279 0.09954396 0.14672764\n",
      " 0.19786106 0.21072494 0.377      0.27313733 0.35571899 0.30601307\n",
      " 0.14281457 0.12224565 0.0417732  0.024      0.16559287 0.052\n",
      " 0.1299269  0.11187493 0.29815432 0.14012851 0.05670979 0.06311894\n",
      " 0.1755705  0.20254629 0.09907573 0.13508886]\n",
      "Class Accuracy Mean: [0.3225023  0.94421104 0.97000489 0.9164442  0.89237647 0.51583102\n",
      " 0.92083867 0.83227494 0.87561112 0.91595874 0.83363825 0.88857473\n",
      " 0.80672334 0.82502297 0.79060171 0.84561028 0.38326259 0.62289142\n",
      " 0.74881149 0.75567721 0.90363881 0.8208197  0.88082399 0.87462363\n",
      " 0.79042621 0.88607336 0.59733895 0.53049493 0.67690875 0.80875736\n",
      " 0.82326442 0.96481554 0.97216907 0.98756796 0.93993569 0.96171922\n",
      " 0.93896556 0.9462207  0.83570166 0.94440324 0.97507914 0.97000407\n",
      " 0.81020714 0.80308431 0.92745546 0.93297144]\n",
      "Class Accuracy Standard Deviation: [0.17379188 0.09409328 0.03560833 0.11983356 0.19551911 0.23992982\n",
      " 0.1075286  0.16584264 0.19481124 0.08959028 0.21401262 0.11301069\n",
      " 0.22789532 0.19807321 0.19839707 0.10738529 0.25282464 0.25413872\n",
      " 0.21453619 0.2176694  0.09364382 0.14931484 0.05139713 0.09305291\n",
      " 0.16644248 0.13952677 0.31081374 0.26905215 0.3013705  0.25030555\n",
      " 0.10492797 0.07509188 0.03192566 0.0156869  0.11547442 0.0452076\n",
      " 0.0862475  0.06140462 0.25158195 0.08762521 0.03554508 0.04164477\n",
      " 0.14986492 0.15145113 0.05184446 0.11120635]\n"
     ]
    }
   ],
   "source": [
    "import pandas as pd\n",
    "import numpy as np\n",
    "\n",
    "num_subjects = 10\n",
    "root_dir = \"./runs/ten_subjs_run8_10_epochs/\"\n",
    "\n",
    "# Initialize lists to store class-level precision, recall, and accuracy\n",
    "class_precision = []\n",
    "class_recall = []\n",
    "class_accuracy = []\n",
    "weighted_avg_accuracy = []\n",
    "\n",
    "# Read the test_classification_report.csv files for all subjects\n",
    "for subj in range(1, num_subjects + 1):\n",
    "    test_subject = 'Subject' + str(subj)\n",
    "    results_dir = root_dir + test_subject\n",
    "    report_path = results_dir + \"/test_classification_report.csv\"\n",
    "    \n",
    "    report_df = pd.read_csv(report_path)\n",
    "    report_df = report_df.rename({\"Unnamed: 0\":\"class\"},axis=1)\n",
    "\n",
    "    # Extract class-level precision, recall, and accuracy\n",
    "    class_precision.append(report_df['precision'][:-3])\n",
    "    class_recall.append(report_df['recall'][:-3])\n",
    "    class_accuracy.append(report_df['f1-score'][:-3])\n",
    "    # weighted_avg_accuracy.append(report_df.loc[report_df['class'] == 'weighted avg', 'accuracy'].values[0])\n",
    "\n",
    "# Convert lists to numpy arrays for calculations\n",
    "class_precision = np.array(class_precision, dtype=float)\n",
    "class_recall = np.array(class_recall, dtype=float)\n",
    "class_accuracy = np.array(class_accuracy, dtype=float)\n",
    "# weighted_avg_accuracy = np.array(weighted_avg_accuracy, dtype=float)\n",
    "\n",
    "# Calculate the mean and standard deviation for each metric\n",
    "class_precision_mean = np.mean(class_precision, axis=0)\n",
    "class_precision_std = np.std(class_precision, axis=0)\n",
    "\n",
    "class_recall_mean = np.mean(class_recall, axis=0)\n",
    "class_recall_std = np.std(class_recall, axis=0)\n",
    "\n",
    "class_accuracy_mean = np.mean(class_accuracy, axis=0)\n",
    "class_accuracy_std = np.std(class_accuracy, axis=0)\n",
    "\n",
    "# weighted_avg_accuracy_mean = np.mean(weighted_avg_accuracy)\n",
    "# weighted_avg_accuracy_std = np.std(weighted_avg_accuracy)\n",
    "\n",
    "print(\"Class Precision Mean:\", class_precision_mean)\n",
    "print(\"Class Precision Standard Deviation:\", class_precision_std)\n",
    "\n",
    "print(\"Class Recall Mean:\", class_recall_mean)\n",
    "print(\"Class Recall Standard Deviation:\", class_recall_std)\n",
    "\n",
    "print(\"Class Accuracy Mean:\", class_accuracy_mean)\n",
    "print(\"Class Accuracy Standard Deviation:\", class_accuracy_std)\n",
    "\n",
    "# print(\"Weighted Average Accuracy Mean:\", weighted_avg_accuracy_mean)\n",
    "# print(\"Weighted Average Accuracy Standard Deviation:\", weighted_avg_accuracy_std)\n"
   ]
  },
  {
   "cell_type": "code",
   "execution_count": 4,
   "metadata": {},
   "outputs": [],
   "source": [
    "# report_df.rename({\"Unnamed: 0\":\"class\"},axis=1)"
   ]
  },
  {
   "cell_type": "code",
   "execution_count": 22,
   "metadata": {},
   "outputs": [],
   "source": [
    "mean_std_df = pd.DataFrame(columns = [\"mean_precision\",\"std_precision\",\n",
    "                                      \"mean_recall\",\"std_recall\"])\n",
    "\n",
    "mean_std_df[\"class\"] = list(range(46))\n",
    "mean_std_df[\"mean_precision\"] = class_precision_mean.tolist()\n",
    "mean_std_df[\"std_precision\"] = class_precision_std.tolist()\n",
    "\n",
    "mean_std_df[\"mean_recall\"] = class_recall_mean.tolist()\n",
    "mean_std_df[\"std_recall\"] = class_recall_std.tolist()\n",
    "mean_std_df.to_csv(\"across_subjects_class_lvl_mean_std_perf.csv\",index=None)\n",
    "# class_precision_mean"
   ]
  },
  {
   "cell_type": "code",
   "execution_count": null,
   "metadata": {},
   "outputs": [],
   "source": []
  },
  {
   "cell_type": "code",
   "execution_count": 20,
   "metadata": {},
   "outputs": [
    {
     "name": "stdout",
     "output_type": "stream",
     "text": [
      "precision - np.mean(avg_class_precision) :  0.3916251535493628\n",
      "recall    - np.mean(avg_class_recall) :  0.36145507246376807\n",
      "f1-score  - np.mean(avg_class_f1_scr) :  0.3232147224745005\n"
     ]
    }
   ],
   "source": [
    "num_subjects = 10\n",
    "root_dir = \"./runs/ten_subjs_run6_10_epochs_no_resnet/\"\n",
    "\n",
    "# Read the test_classification_report.csv files for all subjects\n",
    "avg_class_precision = []\n",
    "avg_class_recall = []\n",
    "avg_class_f1_scr = []\n",
    "for subj in range(1, num_subjects + 1):\n",
    "    test_subject = 'Subject' + str(subj)\n",
    "    results_dir = root_dir + test_subject\n",
    "    report_path = results_dir + \"/test_classification_report.csv\"\n",
    "    \n",
    "    report_df = pd.read_csv(report_path)\n",
    "    report_df = report_df.rename({\"Unnamed: 0\":\"class\"},axis=1)\n",
    "\n",
    "    # Extract class-level precision, recall, and accuracy\n",
    "    avg_class_precision.append(report_df['precision'].tolist()[-1])\n",
    "    avg_class_recall.append(report_df['recall'].tolist()[-1])\n",
    "    avg_class_f1_scr.append(report_df['f1-score'].tolist()[-1])\n",
    "\n",
    "print(\"precision - np.mean(avg_class_precision) : \",np.mean(avg_class_precision))\n",
    "print(\"recall    - np.mean(avg_class_recall) : \",np.mean(avg_class_recall))\n",
    "print(\"f1-score  - np.mean(avg_class_f1_scr) : \",np.mean(avg_class_f1_scr))"
   ]
  },
  {
   "cell_type": "code",
   "execution_count": 16,
   "metadata": {},
   "outputs": [],
   "source": [
    "# report_df"
   ]
  },
  {
   "cell_type": "code",
   "execution_count": 12,
   "metadata": {},
   "outputs": [
    {
     "data": {
      "text/plain": [
       "0.8300729529154991"
      ]
     },
     "execution_count": 12,
     "metadata": {},
     "output_type": "execute_result"
    }
   ],
   "source": [
    "np.mean(avg_class_f1_scr)"
   ]
  },
  {
   "cell_type": "code",
   "execution_count": null,
   "metadata": {},
   "outputs": [],
   "source": [
    "len(class_precision_mean)"
   ]
  },
  {
   "cell_type": "code",
   "execution_count": null,
   "metadata": {},
   "outputs": [],
   "source": []
  }
 ],
 "metadata": {
  "kernelspec": {
   "display_name": "Python 3",
   "language": "python",
   "name": "python3"
  },
  "language_info": {
   "codemirror_mode": {
    "name": "ipython",
    "version": 3
   },
   "file_extension": ".py",
   "mimetype": "text/x-python",
   "name": "python",
   "nbconvert_exporter": "python",
   "pygments_lexer": "ipython3",
   "version": "3.9.16"
  },
  "orig_nbformat": 4
 },
 "nbformat": 4,
 "nbformat_minor": 2
}
